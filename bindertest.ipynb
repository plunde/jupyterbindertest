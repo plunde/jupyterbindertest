{
 "cells": [
  {
   "cell_type": "code",
   "execution_count": 3,
   "id": "a4341c11-6c72-4fad-aba2-146cc58a2eb0",
   "metadata": {},
   "outputs": [],
   "source": [
    "import string"
   ]
  },
  {
   "cell_type": "code",
   "execution_count": 4,
   "id": "4d42545f-689d-4948-8926-eb08f9ce7232",
   "metadata": {},
   "outputs": [],
   "source": [
    "alfabet = string.ascii_lowercase"
   ]
  },
  {
   "cell_type": "code",
   "execution_count": 5,
   "id": "f3462f71-12ba-4f36-aa00-b108a49ea276",
   "metadata": {},
   "outputs": [
    {
     "data": {
      "text/plain": [
       "'abcdefghijklmnopqrstuvwxyz'"
      ]
     },
     "execution_count": 5,
     "metadata": {},
     "output_type": "execute_result"
    }
   ],
   "source": [
    "alfabet"
   ]
  },
  {
   "cell_type": "code",
   "execution_count": null,
   "id": "55ab785a-7d78-49c2-b517-8e8a95ffd865",
   "metadata": {},
   "outputs": [],
   "source": []
  },
  {
   "cell_type": "code",
   "execution_count": null,
   "id": "03bd7357-4723-427e-90ea-b1e08f1f9e0a",
   "metadata": {},
   "outputs": [],
   "source": []
  },
  {
   "cell_type": "code",
   "execution_count": null,
   "id": "dd8a59b7-31ac-46e3-82d9-556ac94db2c5",
   "metadata": {},
   "outputs": [],
   "source": []
  },
  {
   "cell_type": "code",
   "execution_count": null,
   "id": "14fe974c-d2e4-4b43-b036-7e881dfe4f87",
   "metadata": {},
   "outputs": [],
   "source": []
  }
 ],
 "metadata": {
  "kernelspec": {
   "display_name": "Python 3",
   "language": "python",
   "name": "python3"
  },
  "language_info": {
   "codemirror_mode": {
    "name": "ipython",
    "version": 3
   },
   "file_extension": ".py",
   "mimetype": "text/x-python",
   "name": "python",
   "nbconvert_exporter": "python",
   "pygments_lexer": "ipython3",
   "version": "3.8.8"
  }
 },
 "nbformat": 4,
 "nbformat_minor": 5
}
